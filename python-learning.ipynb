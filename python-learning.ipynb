{
 "cells": [
  {
   "cell_type": "markdown",
   "metadata": {},
   "source": [
    "## Adding A and B"
   ]
  },
  {
   "cell_type": "code",
   "execution_count": 1,
   "metadata": {},
   "outputs": [
    {
     "name": "stdout",
     "output_type": "stream",
     "text": [
      "Sum: 7\n"
     ]
    }
   ],
   "source": [
    "def add(a, b):\n",
    "    sum = a + b\n",
    "    print(f'Sum: {sum}')\n",
    "\n",
    "add(5, 2)"
   ]
  },
  {
   "cell_type": "markdown",
   "metadata": {},
   "source": [
    "## Censor the Word"
   ]
  },
  {
   "cell_type": "code",
   "execution_count": 2,
   "metadata": {},
   "outputs": [
    {
     "name": "stdout",
     "output_type": "stream",
     "text": [
      "this **** is wack ****\n"
     ]
    }
   ],
   "source": [
    "\"\"\"\n",
    "This code demonstrates use of .append key and way to insert value into a list\n",
    "\"\"\"\n",
    "def censor(text,word):\n",
    "\twordsinSen=text.split()\n",
    "\tnewSentense=[]\n",
    "\tfor w in wordsinSen:\n",
    "\t\tif w.lower()==word.lower():\n",
    "\t\t\tnewSentense.append(\"*\"*len(w))\n",
    "\t\telse:\n",
    "\t\t\tnewSentense.append(w)\n",
    "\treturn newSentense\n",
    "\t\n",
    "print (\" \".join(censor(\"this hack is wack hack\", \"hack\")))"
   ]
  },
  {
   "cell_type": "markdown",
   "metadata": {},
   "source": [
    "## Fibanocci Series\t"
   ]
  },
  {
   "cell_type": "code",
   "execution_count": 4,
   "metadata": {},
   "outputs": [
    {
     "name": "stdout",
     "output_type": "stream",
     "text": [
      "0\n",
      "1\n",
      "1\n",
      "2\n"
     ]
    }
   ],
   "source": [
    "\"\"\"\n",
    "generate fibanocci series\n",
    "Author: Bipin Radhakrishnan\n",
    "\"\"\"\n",
    "def fibano_Series(number):\n",
    "\tfirst=0\n",
    "\tsecond=1\n",
    "\tnext=0\n",
    "\tprint (first) \n",
    "\tprint(second)\n",
    "\tfor count in range(1,number-2):\n",
    "\t\tnext=first+second\n",
    "\t\tprint (next)\n",
    "\t\tfirst=second\n",
    "\t\tsecond=next\n",
    "\n",
    "num=int(input(\"Enter the Number of Fibanocci Series to Print: \"))\n",
    "\n",
    "fibano_Series(num)"
   ]
  }
 ],
 "metadata": {
  "kernelspec": {
   "display_name": "Python 3.9.2 64-bit",
   "name": "python392jvsc74a57bd07812ea015bdcee6f23a998adcdd2ef97c151c0c241b7b7070987d9313e41299d"
  },
  "language_info": {
   "codemirror_mode": {
    "name": "ipython",
    "version": 3
   },
   "file_extension": ".py",
   "mimetype": "text/x-python",
   "name": "python",
   "nbconvert_exporter": "python",
   "pygments_lexer": "ipython3",
   "version": "3.9.2"
  },
  "metadata": {
   "interpreter": {
    "hash": "7812ea015bdcee6f23a998adcdd2ef97c151c0c241b7b7070987d9313e41299d"
   }
  },
  "orig_nbformat": 2
 },
 "nbformat": 4,
 "nbformat_minor": 2
}